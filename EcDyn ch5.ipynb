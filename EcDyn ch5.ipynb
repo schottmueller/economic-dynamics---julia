{
 "cells": [
  {
   "cell_type": "markdown",
   "metadata": {},
   "source": [
    "# Economic Dynamics ch. 5"
   ]
  },
  {
   "cell_type": "code",
   "execution_count": 2,
   "metadata": {
    "collapsed": false
   },
   "outputs": [
    {
     "data": {
      "text/plain": [
       "16-element Array{Int64,1}:\n",
       " 0\n",
       " 0\n",
       " 0\n",
       " 0\n",
       " 1\n",
       " 1\n",
       " 1\n",
       " 2\n",
       " 2\n",
       " 3\n",
       " 3\n",
       " 4\n",
       " 5\n",
       " 5\n",
       " 5\n",
       " 5"
      ]
     },
     "execution_count": 2,
     "metadata": {},
     "output_type": "execute_result"
    }
   ],
   "source": [
    "#Ex 5.1.2 (Value function iteration)\n",
    "const beta, rho, B, M = 0.5, 0.9, 10, 5\n",
    "const S = 0:B+M\n",
    "const Z = 0:B\n",
    "\n",
    "function u(c::Int64)\n",
    "    return c^beta\n",
    "end\n",
    "\n",
    "function phi(z::Int64)\n",
    "    return 1.0/length(Z)\n",
    "end\n",
    "\n",
    "function gamma(x::Int64)\n",
    "    return 0:min(x,M)\n",
    "end\n",
    "\n",
    "function T(v::Vector{Float64}) \n",
    "    Tv = zeros(Float64,length(S))\n",
    "    for x in S\n",
    "        value = zeros(length(S))\n",
    "        for a in gamma(x)\n",
    "            value[a+1] = u(x-a) + rho*sum([v[a+z]*phi(z) for z in 1:B+1])\n",
    "        end\n",
    "        Tv[x+1] = maximum(value)\n",
    "    end\n",
    "    return Tv\n",
    "end\n",
    "\n",
    "function solveV(v::Vector{Float64},tol::Float64=0.001)\n",
    "    vnew = T(v)\n",
    "    while maximum(abs(vnew-v)) > tol\n",
    "        v = vnew\n",
    "        vnew = T(v)\n",
    "    end\n",
    "    return vnew\n",
    "end\n",
    "\n",
    "function solvePolicy(v::Vector{Float64})\n",
    "    sigma = zeros(Int64,length(S))\n",
    "    for x in S\n",
    "        value = zeros(length(S))\n",
    "        for a in gamma(x)\n",
    "            value[a+1] = u(x-a) + rho*sum([v[a+z]*phi(z) for z in 1:B+1])\n",
    "        end\n",
    "        sigma[x+1] = indmax(value)\n",
    "    end\n",
    "    return sigma-1\n",
    "end\n",
    "\n",
    "\n",
    "start = [u(c) for c in 1:length(S)]\n",
    "\n",
    "sig_v_iter = solvePolicy(solveV(start))\n"
   ]
  },
  {
   "cell_type": "code",
   "execution_count": 18,
   "metadata": {
    "collapsed": false
   },
   "outputs": [
    {
     "name": "stdout",
     "output_type": "stream",
     "text": [
      "(0.5454545454545455,1)\n",
      "[0.017321867321867336 0.041210632119723055 0.05773955773955783 0.07426848335939251 0.08095823095823106 0.09090909090909091 0.09090909090909091 0.09090909090909091 0.09090909090909091 0.09090909090909091 0.09090909090909091 0.07358722358722367 0.04969845878936793 0.033169533169533194 0.016640607549698472 0.009950859950859958]\n",
      "[0.017321867321867374,0.04121063211972295,0.05773955773955777,0.07426848335939241,0.08095823095823093,0.0909090909090909,0.09090909090909094,0.09090909090909094,0.09090909090909087,0.09090909090909088,0.09090909090909087,0.07358722358722365,0.04969845878936791,0.03316953316953319,0.01664060754969848,0.009950859950859963]\n"
     ]
    }
   ],
   "source": [
    "#Ex 5.1.3 (requires Ex 5.1.2)\n",
    "p = zeros(Float64,length(S),length(S))\n",
    "for x in S\n",
    "    save = sig_v_iter[x+1]\n",
    "    for y in save+1:save+1+B\n",
    "        p[x+1,y] = phi(y-1-save)\n",
    "    end\n",
    "end\n",
    "\n",
    "   function dobrushin(p::Matrix{Float64})\n",
    "        d = 1.0\n",
    "        n,m = size(p)\n",
    "        for i in 1:n\n",
    "            for j in 1:n\n",
    "                a = sum([min(p[i,k],p[j,k]) for k in 1:m])\n",
    "                if a<d\n",
    "                    d = a\n",
    "                end\n",
    "            end\n",
    "        end\n",
    "        return d\n",
    "    end\n",
    "    function repeat_dobrushin(p::Matrix{Float64},T::Int64=100)\n",
    "        q = copy(p)\n",
    "        for t in 1:T\n",
    "            a = dobrushin(q)\n",
    "            if a>0\n",
    "                return a,t\n",
    "            else\n",
    "                q = q*p\n",
    "            end\n",
    "        end\n",
    "        println(\"Dobrushin 0 for all t up to \",T)\n",
    "    end\n",
    "\n",
    "println(repeat_dobrushin(p))\n",
    "\n",
    "println( [1/length(S) for i in 1:length(S)]' * p^50 )\n",
    "\n",
    "A = (eye(length(S))-p+ones(length(S),length(S)))'\n",
    "b = ones(length(S))\n",
    "println(\\(A,b))"
   ]
  },
  {
   "cell_type": "code",
   "execution_count": 23,
   "metadata": {
    "collapsed": false
   },
   "outputs": [
    {
     "data": {
      "text/plain": [
       "16-element Array{Int64,1}:\n",
       " 0\n",
       " 0\n",
       " 0\n",
       " 0\n",
       " 0\n",
       " 0\n",
       " 0\n",
       " 0\n",
       " 0\n",
       " 0\n",
       " 0\n",
       " 0\n",
       " 0\n",
       " 0\n",
       " 0\n",
       " 0"
      ]
     },
     "execution_count": 23,
     "metadata": {},
     "output_type": "execute_result"
    }
   ],
   "source": [
    "#Ex 5.1.4 (requires ex 5.1.2)\n",
    "\n",
    "function value_of_policy(sig::Vector{Int64},T::Int64=50)\n",
    "    p = zeros(Float64,length(S),length(S))\n",
    "    for x in S\n",
    "        save = sig_v_iter[x+1]\n",
    "        for y in save+1:save+1+B\n",
    "            p[x+1,y] = phi(y-1-save)\n",
    "        end\n",
    "    end \n",
    "    r = [u(x-sig[x+1]) for x in S]\n",
    "    v_sigma = zeros(length(S))\n",
    "    discount = 1.0\n",
    "    for t in 0:T\n",
    "        v_sigma = v_sigma + discount * r\n",
    "        r = p*r\n",
    "        discount = discount*rho\n",
    "    end\n",
    "    return v_sigma\n",
    "end\n",
    "\n",
    "sigma = zeros(Int64,length(S))\n",
    "\n",
    "e = ones(length(S))\n",
    "\n",
    "while e!=zeros(length(S))\n",
    "    sigma_prime = solvePolicy(value_of_policy(sigma))\n",
    "    e = sigma-sigma_prime\n",
    "    sigma = sigma_prime\n",
    "end\n",
    "\n",
    "sigma-sig_v_iter    #zero vector if both methods give same result"
   ]
  },
  {
   "cell_type": "code",
   "execution_count": 23,
   "metadata": {
    "collapsed": false
   },
   "outputs": [
    {
     "data": {
      "text/plain": [
       "3-element Array{Float64,1}:\n",
       " 0.80798\n",
       " 0.16742\n",
       " 0.0246 "
      ]
     },
     "execution_count": 23,
     "metadata": {},
     "output_type": "execute_result"
    }
   ],
   "source": [
    "function makeF(p::Matrix{Float64})\n",
    "    S = 1:size(p,1)\n",
    "    function F(x::Int64,z::Float64)\n",
    "        a = 0.0\n",
    "        for y in S\n",
    "            if a<z<=a+p[x,y] \n",
    "                return y\n",
    "            else\n",
    "                a += p[x,y]\n",
    "            end\n",
    "        end\n",
    "    end\n",
    "    return F\n",
    "end\n",
    "\n",
    "function genFinMC(p::Matrix{Float64},x0::Int64=1,T::Int64=100)\n",
    "    F = makeF(p)\n",
    "    X = zeros(Int64,T)\n",
    "    X[1] = x0\n",
    "    for t in 2:T\n",
    "        b = rand()\n",
    "        X[t] = F(X[t-1],b)\n",
    "    end\n",
    "    return X\n",
    "end\n",
    "\n",
    "pH = [0.971 0.029 0.0; 0.145 0.778 0.077; 0.0 0.508 0.492]\n",
    "\n",
    "hist(genFinMC(pH,1,100000))[2]/100000\n"
   ]
  },
  {
   "cell_type": "code",
   "execution_count": 54,
   "metadata": {
    "collapsed": false
   },
   "outputs": [
    {
     "name": "stdout",
     "output_type": "stream",
     "text": [
      "Any["
     ]
    },
    {
     "data": {
      "image/png": "[encoded data removed]",
      "text/plain": [
       "PyPlot.Figure(PyObject <matplotlib.figure.Figure object at 0x7f891c920890>)"
      ]
     },
     "metadata": {},
     "output_type": "display_data"
    },
    {
     "data": {
      "text/plain": [
       "(PyObject <matplotlib.patches.Rectangle object at 0x7f891c85b1d0>,PyObject <matplotlib.patches.Rectangle object at 0x7f891c85b7d0>,PyObject <matplotlib.patches.Rectangle object at 0x7f891c85be50>,PyObject <matplotlib.patches.Rectangle object at 0x7f891c869510>,PyObject <matplotlib.patches.Rectangle object at 0x7f891c869b90>,PyObject <matplotlib.patches.Rectangle object at 0x7f891c875250>,PyObject <matplotlib.patches.Rectangle object at 0x7f891c8758d0>,PyObject <matplotlib.patches.Rectangle object at 0x7f891c875f50>,PyObject <matplotlib.patches.Rectangle object at 0x7f891c882610>,PyObject <matplotlib.patches.Rectangle object at 0x7f891c882c90>)"
      ]
     },
     "execution_count": 54,
     "metadata": {},
     "output_type": "execute_result"
    },
    {
     "name": "stdout",
     "output_type": "stream",
     "text": [
      "0.98741,0.87657,0.77607,0.68317,0.59678,0.53378,0.46959,0.41272,0.36329,0.31663]\n"
     ]
    }
   ],
   "source": [
    "# ex 5.2.4 (requires 5.2.2)\n",
    "using Distributions\n",
    "using PyPlot\n",
    "\n",
    "const N,u,w = 12,2,1\n",
    "const S = 1:N+1\n",
    "\n",
    "function B(x::Int64)\n",
    "    if x==N/(1+u/w)\n",
    "        return x\n",
    "    elseif x>N/(1+u/w)\n",
    "        return N\n",
    "    else\n",
    "        return 0\n",
    "    end\n",
    "end\n",
    "\n",
    "function path(epsilon::Float64,T::Int64,x0::Int64)\n",
    "    X = zeros(Int64,T)\n",
    "    X[1] = x0\n",
    "    d = Bernoulli(epsilon)\n",
    "    for t in 2:T\n",
    "        Bx = B(X[t-1])\n",
    "        X[t] = Bx + sum(rand(d,N-Bx)) - sum(rand(d,Bx))\n",
    "    end\n",
    "    return X\n",
    "end\n",
    "\n",
    "startd = DiscreteUniform(0,N)\n",
    "start = rand(startd,1)[1]\n",
    "\n",
    "data = []\n",
    "for eps in 0.001:0.01:0.1\n",
    "    push!(data,mean(path(eps,100000,4).==N))\n",
    "end\n",
    "println(data)\n",
    "fig,ax = subplots()\n",
    "ax[:bar]([i for i in 1:length(data)],data,width=0.5)"
   ]
  },
  {
   "cell_type": "code",
   "execution_count": 44,
   "metadata": {
    "collapsed": false
   },
   "outputs": [
    {
     "data": {
      "text/plain": [
       "0.25"
      ]
     },
     "execution_count": 44,
     "metadata": {},
     "output_type": "execute_result"
    }
   ],
   "source": []
  },
  {
   "cell_type": "code",
   "execution_count": null,
   "metadata": {
    "collapsed": true
   },
   "outputs": [],
   "source": []
  }
 ],
 "metadata": {
  "kernelspec": {
   "display_name": "Julia 0.4.3",
   "language": "julia",
   "name": "julia-0.4"
  },
  "language_info": {
   "file_extension": ".jl",
   "mimetype": "application/julia",
   "name": "julia",
   "version": "0.4.3"
  }
 },
 "nbformat": 4,
 "nbformat_minor": 0
}
